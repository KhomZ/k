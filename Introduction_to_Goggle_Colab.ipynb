{
  "nbformat": 4,
  "nbformat_minor": 0,
  "metadata": {
    "colab": {
      "name": "Introduction to Goggle Colab.ipynb",
      "private_outputs": true,
      "provenance": [],
      "collapsed_sections": [],
      "toc_visible": true,
      "history_visible": true,
      "authorship_tag": "ABX9TyMLd963k+cqm9uRJxsedQno",
      "include_colab_link": true
    },
    "kernelspec": {
      "name": "python3",
      "display_name": "Python 3"
    }
  },
  "cells": [
    {
      "cell_type": "markdown",
      "metadata": {
        "id": "view-in-github",
        "colab_type": "text"
      },
      "source": [
        "<a href=\"https://colab.research.google.com/github/KhomZ/k/blob/master/Introduction_to_Goggle_Colab.ipynb\" target=\"_parent\"><img src=\"https://colab.research.google.com/assets/colab-badge.svg\" alt=\"Open In Colab\"/></a>"
      ]
    },
    {
      "cell_type": "markdown",
      "metadata": {
        "id": "OtilYVKUahJ0"
      },
      "source": [
        "Introduction to google**'colab'**"
      ]
    },
    {
      "cell_type": "code",
      "metadata": {
        "id": "3doV-YCje7h8"
      },
      "source": [
        "import numpy as np\n",
        "import pandas as pd\n",
        "import matplotlib.pyplot as plt"
      ],
      "execution_count": null,
      "outputs": []
    },
    {
      "cell_type": "code",
      "metadata": {
        "id": "-DnCTr89fys7"
      },
      "source": [
        "arr = np.array([[1,2,3],[4,5,6],[7,8,9]])"
      ],
      "execution_count": null,
      "outputs": []
    },
    {
      "cell_type": "code",
      "metadata": {
        "id": "3OZTodK1gUQV"
      },
      "source": [
        "print(arr)"
      ],
      "execution_count": null,
      "outputs": []
    },
    {
      "cell_type": "markdown",
      "metadata": {
        "id": "FAlvgAGEhpaB"
      },
      "source": [
        "**The Neuron:**\n",
        "The Neuron is the basic building block of Artificial Neural Network.\n",
        "\n",
        "It consists of\n",
        "\n",
        "> Indented block\n",
        "i) *Neuron*: the main part of the Neuron\n",
        "ii) *Dendrites*: the body of Neuron has branches called Dendrites\n",
        "iii)* Axon*: long tail of Neuron"
      ]
    },
    {
      "cell_type": "markdown",
      "metadata": {
        "id": "ZNz-1whEjALh"
      },
      "source": [
        "The Dendrites are the recievers of the signals and Axon is the transmitter."
      ]
    },
    {
      "cell_type": "markdown",
      "metadata": {
        "id": "NcI-DMnek_Ms"
      },
      "source": [
        "NOTE: *To function a Human Brain, a single neuron can't do much. To do that, there are billions of neurons.These all neurons work together, transmit and receive signals. And as a result, human brain functions properly.*\n",
        "Now, the deep learning and artificial intelligence scientists are inspired by the functioning of brain. And, they're trying to mimic the functioning of the brain. To mimic the functioning of the brain, they're using Neuron.\n",
        "A single neuron is also known as node. Neuron receives signals from dendrites. After processing the input signal, this neuron transmits the output signal."
      ]
    }
  ]
}